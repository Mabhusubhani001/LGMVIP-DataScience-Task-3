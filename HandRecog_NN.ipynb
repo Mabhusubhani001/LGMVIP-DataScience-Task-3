{
  "nbformat": 4,
  "nbformat_minor": 0,
  "metadata": {
    "colab": {
      "provenance": []
    },
    "kernelspec": {
      "name": "python3",
      "display_name": "Python 3"
    },
    "language_info": {
      "name": "python"
    }
  },
  "cells": [
    {
      "cell_type": "code",
      "execution_count": 1,
      "metadata": {
        "colab": {
          "base_uri": "https://localhost:8080/"
        },
        "id": "x_MQzH0umZS5",
        "outputId": "5033acac-bd04-43ab-825f-f8c35b110ab1"
      },
      "outputs": [
        {
          "output_type": "stream",
          "name": "stdout",
          "text": [
            "Downloading data from https://storage.googleapis.com/tensorflow/tf-keras-datasets/mnist.npz\n",
            "11490434/11490434 [==============================] - 0s 0us/step\n",
            "Epoch 1/10\n",
            "1875/1875 [==============================] - 65s 34ms/step - loss: 0.1459 - accuracy: 0.9553 - val_loss: 0.0516 - val_accuracy: 0.9837\n",
            "Epoch 2/10\n",
            "1875/1875 [==============================] - 59s 32ms/step - loss: 0.0475 - accuracy: 0.9854 - val_loss: 0.0431 - val_accuracy: 0.9868\n",
            "Epoch 3/10\n",
            "1875/1875 [==============================] - 58s 31ms/step - loss: 0.0329 - accuracy: 0.9898 - val_loss: 0.0428 - val_accuracy: 0.9862\n",
            "Epoch 4/10\n",
            "1875/1875 [==============================] - 59s 32ms/step - loss: 0.0255 - accuracy: 0.9916 - val_loss: 0.0321 - val_accuracy: 0.9891\n",
            "Epoch 5/10\n",
            "1875/1875 [==============================] - 58s 31ms/step - loss: 0.0187 - accuracy: 0.9941 - val_loss: 0.0285 - val_accuracy: 0.9916\n",
            "Epoch 6/10\n",
            "1875/1875 [==============================] - 59s 31ms/step - loss: 0.0150 - accuracy: 0.9952 - val_loss: 0.0302 - val_accuracy: 0.9895\n",
            "Epoch 7/10\n",
            "1875/1875 [==============================] - 58s 31ms/step - loss: 0.0118 - accuracy: 0.9963 - val_loss: 0.0330 - val_accuracy: 0.9897\n",
            "Epoch 8/10\n",
            "1875/1875 [==============================] - 58s 31ms/step - loss: 0.0098 - accuracy: 0.9969 - val_loss: 0.0303 - val_accuracy: 0.9909\n",
            "Epoch 9/10\n",
            "1875/1875 [==============================] - 59s 31ms/step - loss: 0.0086 - accuracy: 0.9970 - val_loss: 0.0333 - val_accuracy: 0.9902\n",
            "Epoch 10/10\n",
            "1875/1875 [==============================] - 58s 31ms/step - loss: 0.0074 - accuracy: 0.9976 - val_loss: 0.0336 - val_accuracy: 0.9912\n"
          ]
        }
      ],
      "source": [
        "import tensorflow as tf\n",
        "from tensorflow.keras.datasets import mnist\n",
        "from tensorflow.keras.models import Sequential\n",
        "from tensorflow.keras.layers import Conv2D, MaxPooling2D, Flatten, Dense\n",
        "\n",
        "# Load and preprocess the MNIST dataset\n",
        "(x_train, y_train), (x_test, y_test) = mnist.load_data()\n",
        "\n",
        "# Normalize the input data\n",
        "x_train = x_train / 255.0\n",
        "x_test = x_test / 255.0\n",
        "\n",
        "# Reshape the input data to fit the CNN input shape\n",
        "x_train = x_train.reshape(x_train.shape[0], 28, 28, 1)\n",
        "x_test = x_test.reshape(x_test.shape[0], 28, 28, 1)\n",
        "\n",
        "# Define the CNN model\n",
        "model = Sequential()\n",
        "model.add(Conv2D(32, (3, 3), activation='relu', input_shape=(28, 28, 1)))\n",
        "model.add(MaxPooling2D((2, 2)))\n",
        "model.add(Conv2D(64, (3, 3), activation='relu'))\n",
        "model.add(MaxPooling2D((2, 2)))\n",
        "model.add(Flatten())\n",
        "model.add(Dense(64, activation='relu'))\n",
        "model.add(Dense(10, activation='softmax'))\n",
        "\n",
        "# Compile the model\n",
        "model.compile(optimizer='adam',\n",
        "              loss='sparse_categorical_crossentropy',\n",
        "              metrics=['accuracy'])\n",
        "\n",
        "# Train the model\n",
        "model.fit(x_train, y_train, epochs=10, batch_size=32, validation_data=(x_test, y_test))\n",
        "\n",
        "# Save the model\n",
        "model.save('handwriting_model.h5')\n"
      ]
    },
    {
      "cell_type": "code",
      "source": [
        "import tensorflow as tf\n",
        "import numpy as np\n",
        "import matplotlib.pyplot as plt\n",
        "from PIL import Image\n",
        "\n",
        "# Load the saved model\n",
        "model = tf.keras.models.load_model('handwriting_model.h5')\n",
        "\n",
        "# Load the handwritten image\n",
        "image_path = 'sample.jpg'\n",
        "image = Image.open(image_path).convert('L')  # Convert to grayscale\n",
        "image = image.resize((28, 28))  # Resize to 28x28 pixels\n",
        "image = np.array(image)\n",
        "image = image / 255.0  # Normalize pixel values\n",
        "\n",
        "# Reshape and expand dimensions of the image\n",
        "new_image = np.expand_dims(image, axis=0)\n",
        "new_image = np.expand_dims(new_image, axis=3)\n",
        "\n",
        "# Make predictions on the new handwritten image\n",
        "predictions = model.predict(new_image)\n",
        "predicted_label = np.argmax(predictions)\n",
        "\n",
        "# Display the new handwritten image and predicted label\n",
        "plt.imshow(image, cmap='gray')\n",
        "plt.title(f\"Predicted Label: {predicted_label}\")\n",
        "plt.axis('off')\n",
        "plt.show()\n"
      ],
      "metadata": {
        "colab": {
          "base_uri": "https://localhost:8080/",
          "height": 484
        },
        "id": "134zac5qo37T",
        "outputId": "61f172be-7822-406d-905e-6ffbe881ca3f"
      },
      "execution_count": 6,
      "outputs": [
        {
          "output_type": "stream",
          "name": "stderr",
          "text": [
            "WARNING:tensorflow:5 out of the last 5 calls to <function Model.make_predict_function.<locals>.predict_function at 0x794f29ef1750> triggered tf.function retracing. Tracing is expensive and the excessive number of tracings could be due to (1) creating @tf.function repeatedly in a loop, (2) passing tensors with different shapes, (3) passing Python objects instead of tensors. For (1), please define your @tf.function outside of the loop. For (2), @tf.function has reduce_retracing=True option that can avoid unnecessary retracing. For (3), please refer to https://www.tensorflow.org/guide/function#controlling_retracing and https://www.tensorflow.org/api_docs/python/tf/function for  more details.\n"
          ]
        },
        {
          "output_type": "stream",
          "name": "stdout",
          "text": [
            "1/1 [==============================] - 0s 255ms/step\n"
          ]
        },
        {
          "output_type": "display_data",
          "data": {
            "text/plain": [
              "<Figure size 640x480 with 1 Axes>"
            ],
            "image/png": "[encoded data removed]"
          },
          "metadata": {}
        }
      ]
    }
  ]
}